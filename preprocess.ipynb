{
 "cells": [
  {
   "cell_type": "code",
   "execution_count": 1,
   "metadata": {
    "collapsed": true
   },
   "outputs": [],
   "source": [
    "%matplotlib inline"
   ]
  },
  {
   "cell_type": "code",
   "execution_count": 2,
   "metadata": {
    "collapsed": true
   },
   "outputs": [],
   "source": [
    "import pandas as pd\n",
    "import numpy as np"
   ]
  },
  {
   "cell_type": "markdown",
   "metadata": {},
   "source": [
    "## 1. Get the data\n",
    "\n",
    "You can download the data from Kaggle using [this link](https://www.kaggle.com/kaggle/us-baby-names/downloads/us-baby-names-release-2015-12-18-00-53-48.zip). It'll ask you to sign in to Kaggle after you click it. It's free to get an account if you don't have one. Just make sure the `read_csv()` function below points to the `StateNames.csv` file you downloaded."
   ]
  },
  {
   "cell_type": "code",
   "execution_count": 3,
   "metadata": {
    "collapsed": false
   },
   "outputs": [
    {
     "data": {
      "text/html": [
       "<div>\n",
       "<table border=\"1\" class=\"dataframe\">\n",
       "  <thead>\n",
       "    <tr style=\"text-align: right;\">\n",
       "      <th></th>\n",
       "      <th>Id</th>\n",
       "      <th>Name</th>\n",
       "      <th>Year</th>\n",
       "      <th>Gender</th>\n",
       "      <th>State</th>\n",
       "      <th>Count</th>\n",
       "    </tr>\n",
       "  </thead>\n",
       "  <tbody>\n",
       "    <tr>\n",
       "      <th>0</th>\n",
       "      <td>1</td>\n",
       "      <td>Mary</td>\n",
       "      <td>1910</td>\n",
       "      <td>F</td>\n",
       "      <td>AK</td>\n",
       "      <td>14</td>\n",
       "    </tr>\n",
       "    <tr>\n",
       "      <th>1</th>\n",
       "      <td>2</td>\n",
       "      <td>Annie</td>\n",
       "      <td>1910</td>\n",
       "      <td>F</td>\n",
       "      <td>AK</td>\n",
       "      <td>12</td>\n",
       "    </tr>\n",
       "    <tr>\n",
       "      <th>2</th>\n",
       "      <td>3</td>\n",
       "      <td>Anna</td>\n",
       "      <td>1910</td>\n",
       "      <td>F</td>\n",
       "      <td>AK</td>\n",
       "      <td>10</td>\n",
       "    </tr>\n",
       "    <tr>\n",
       "      <th>3</th>\n",
       "      <td>4</td>\n",
       "      <td>Margaret</td>\n",
       "      <td>1910</td>\n",
       "      <td>F</td>\n",
       "      <td>AK</td>\n",
       "      <td>8</td>\n",
       "    </tr>\n",
       "    <tr>\n",
       "      <th>4</th>\n",
       "      <td>5</td>\n",
       "      <td>Helen</td>\n",
       "      <td>1910</td>\n",
       "      <td>F</td>\n",
       "      <td>AK</td>\n",
       "      <td>7</td>\n",
       "    </tr>\n",
       "  </tbody>\n",
       "</table>\n",
       "</div>"
      ],
      "text/plain": [
       "   Id      Name  Year Gender State  Count\n",
       "0   1      Mary  1910      F    AK     14\n",
       "1   2     Annie  1910      F    AK     12\n",
       "2   3      Anna  1910      F    AK     10\n",
       "3   4  Margaret  1910      F    AK      8\n",
       "4   5     Helen  1910      F    AK      7"
      ]
     },
     "execution_count": 3,
     "metadata": {},
     "output_type": "execute_result"
    }
   ],
   "source": [
    "df_full = pd.read_csv('StateNames.csv', dtype={'Year':str})\n",
    "df_full.head()"
   ]
  },
  {
   "cell_type": "markdown",
   "metadata": {},
   "source": [
    "## 2. Get rid of Washington, D.C.\n",
    "\n",
    "Sorry DC, no representation for you, but at least there's no taxation involved here."
   ]
  },
  {
   "cell_type": "code",
   "execution_count": 4,
   "metadata": {
    "collapsed": true
   },
   "outputs": [],
   "source": [
    "df_full = df_full[df_full['State'] != 'DC']"
   ]
  },
  {
   "cell_type": "markdown",
   "metadata": {},
   "source": [
    "## 3. Map Gender and State to integers\n",
    "\n",
    "I use -1/+1 for M/F, and I use the id numbers that go with each state in the US map's JSON data structure instead of the two letter state abbreviation. These id numbers are stored in `state_ids.csv` with columns \"Abbrev\" and \"ID\"."
   ]
  },
  {
   "cell_type": "code",
   "execution_count": 5,
   "metadata": {
    "collapsed": false
   },
   "outputs": [
    {
     "data": {
      "text/html": [
       "<div>\n",
       "<table border=\"1\" class=\"dataframe\">\n",
       "  <thead>\n",
       "    <tr style=\"text-align: right;\">\n",
       "      <th></th>\n",
       "      <th>Id</th>\n",
       "      <th>Name</th>\n",
       "      <th>Year</th>\n",
       "      <th>Gender</th>\n",
       "      <th>State</th>\n",
       "      <th>Count</th>\n",
       "    </tr>\n",
       "  </thead>\n",
       "  <tbody>\n",
       "    <tr>\n",
       "      <th>0</th>\n",
       "      <td>1</td>\n",
       "      <td>Mary</td>\n",
       "      <td>1910</td>\n",
       "      <td>1</td>\n",
       "      <td>2</td>\n",
       "      <td>14</td>\n",
       "    </tr>\n",
       "    <tr>\n",
       "      <th>1</th>\n",
       "      <td>2</td>\n",
       "      <td>Annie</td>\n",
       "      <td>1910</td>\n",
       "      <td>1</td>\n",
       "      <td>2</td>\n",
       "      <td>12</td>\n",
       "    </tr>\n",
       "    <tr>\n",
       "      <th>2</th>\n",
       "      <td>3</td>\n",
       "      <td>Anna</td>\n",
       "      <td>1910</td>\n",
       "      <td>1</td>\n",
       "      <td>2</td>\n",
       "      <td>10</td>\n",
       "    </tr>\n",
       "    <tr>\n",
       "      <th>3</th>\n",
       "      <td>4</td>\n",
       "      <td>Margaret</td>\n",
       "      <td>1910</td>\n",
       "      <td>1</td>\n",
       "      <td>2</td>\n",
       "      <td>8</td>\n",
       "    </tr>\n",
       "    <tr>\n",
       "      <th>4</th>\n",
       "      <td>5</td>\n",
       "      <td>Helen</td>\n",
       "      <td>1910</td>\n",
       "      <td>1</td>\n",
       "      <td>2</td>\n",
       "      <td>7</td>\n",
       "    </tr>\n",
       "  </tbody>\n",
       "</table>\n",
       "</div>"
      ],
      "text/plain": [
       "   Id      Name  Year  Gender State  Count\n",
       "0   1      Mary  1910       1     2     14\n",
       "1   2     Annie  1910       1     2     12\n",
       "2   3      Anna  1910       1     2     10\n",
       "3   4  Margaret  1910       1     2      8\n",
       "4   5     Helen  1910       1     2      7"
      ]
     },
     "execution_count": 5,
     "metadata": {},
     "output_type": "execute_result"
    }
   ],
   "source": [
    "state_abbrevs = pd.read_csv('state_ids.csv', index_col=0, dtype={'ID':str})\n",
    "gender_map = pd.Series([1, -1], index=['F', 'M'])\n",
    "df_full['State'] = df_full['State'].map(state_abbrevs['ID'])\n",
    "assert( ~np.any(pd.isnull(df_full['State'])) ) # make sure all states were accounted for\n",
    "df_full['Gender'] = df_full['Gender'].map(gender_map)\n",
    "df_full.head()"
   ]
  },
  {
   "cell_type": "markdown",
   "metadata": {},
   "source": [
    "## 4. Select only the most popular names\n",
    "\n",
    "Sorry Zyshonne, Gelacio, and Geetika. There are a lot of names, and covering all of them would slow down things down when switching between names in the final visualization. Also, the less popular names have worse statistics, so visualizations would be less informative and less interesting. I use the total number of babies recorded with any particular name as the (maybe overly) simple metric for popularity."
   ]
  },
  {
   "cell_type": "code",
   "execution_count": 6,
   "metadata": {
    "collapsed": false
   },
   "outputs": [
    {
     "data": {
      "text/html": [
       "<div>\n",
       "<table border=\"1\" class=\"dataframe\">\n",
       "  <thead>\n",
       "    <tr style=\"text-align: right;\">\n",
       "      <th></th>\n",
       "      <th>Count</th>\n",
       "    </tr>\n",
       "    <tr>\n",
       "      <th>Name</th>\n",
       "      <th></th>\n",
       "    </tr>\n",
       "  </thead>\n",
       "  <tbody>\n",
       "    <tr>\n",
       "      <th>James</th>\n",
       "      <td>4924520</td>\n",
       "    </tr>\n",
       "    <tr>\n",
       "      <th>John</th>\n",
       "      <td>4811223</td>\n",
       "    </tr>\n",
       "    <tr>\n",
       "      <th>Robert</th>\n",
       "      <td>4696229</td>\n",
       "    </tr>\n",
       "    <tr>\n",
       "      <th>Michael</th>\n",
       "      <td>4283621</td>\n",
       "    </tr>\n",
       "    <tr>\n",
       "      <th>William</th>\n",
       "      <td>3810635</td>\n",
       "    </tr>\n",
       "  </tbody>\n",
       "</table>\n",
       "</div>"
      ],
      "text/plain": [
       "           Count\n",
       "Name            \n",
       "James    4924520\n",
       "John     4811223\n",
       "Robert   4696229\n",
       "Michael  4283621\n",
       "William  3810635"
      ]
     },
     "execution_count": 6,
     "metadata": {},
     "output_type": "execute_result"
    }
   ],
   "source": [
    "num_names = 1000\n",
    "name_by_popularity = df_full.pivot_table(index='Name', values='Count', aggfunc=np.sum)\n",
    "name_by_popularity = pd.DataFrame(name_by_popularity).sort(['Count'], ascending=False)\n",
    "name_by_popularity = name_by_popularity[:num_names]\n",
    "name_by_popularity.head()"
   ]
  },
  {
   "cell_type": "code",
   "execution_count": 7,
   "metadata": {
    "collapsed": false
   },
   "outputs": [
    {
     "data": {
      "text/html": [
       "<div>\n",
       "<table border=\"1\" class=\"dataframe\">\n",
       "  <thead>\n",
       "    <tr style=\"text-align: right;\">\n",
       "      <th></th>\n",
       "      <th>Id</th>\n",
       "      <th>Name</th>\n",
       "      <th>Year</th>\n",
       "      <th>Gender</th>\n",
       "      <th>State</th>\n",
       "      <th>Count</th>\n",
       "    </tr>\n",
       "  </thead>\n",
       "  <tbody>\n",
       "    <tr>\n",
       "      <th>0</th>\n",
       "      <td>1</td>\n",
       "      <td>Mary</td>\n",
       "      <td>1910</td>\n",
       "      <td>1</td>\n",
       "      <td>2</td>\n",
       "      <td>14</td>\n",
       "    </tr>\n",
       "    <tr>\n",
       "      <th>1</th>\n",
       "      <td>2</td>\n",
       "      <td>Annie</td>\n",
       "      <td>1910</td>\n",
       "      <td>1</td>\n",
       "      <td>2</td>\n",
       "      <td>12</td>\n",
       "    </tr>\n",
       "    <tr>\n",
       "      <th>2</th>\n",
       "      <td>3</td>\n",
       "      <td>Anna</td>\n",
       "      <td>1910</td>\n",
       "      <td>1</td>\n",
       "      <td>2</td>\n",
       "      <td>10</td>\n",
       "    </tr>\n",
       "    <tr>\n",
       "      <th>3</th>\n",
       "      <td>4</td>\n",
       "      <td>Margaret</td>\n",
       "      <td>1910</td>\n",
       "      <td>1</td>\n",
       "      <td>2</td>\n",
       "      <td>8</td>\n",
       "    </tr>\n",
       "    <tr>\n",
       "      <th>4</th>\n",
       "      <td>5</td>\n",
       "      <td>Helen</td>\n",
       "      <td>1910</td>\n",
       "      <td>1</td>\n",
       "      <td>2</td>\n",
       "      <td>7</td>\n",
       "    </tr>\n",
       "  </tbody>\n",
       "</table>\n",
       "</div>"
      ],
      "text/plain": [
       "   Id      Name  Year  Gender State  Count\n",
       "0   1      Mary  1910       1     2     14\n",
       "1   2     Annie  1910       1     2     12\n",
       "2   3      Anna  1910       1     2     10\n",
       "3   4  Margaret  1910       1     2      8\n",
       "4   5     Helen  1910       1     2      7"
      ]
     },
     "execution_count": 7,
     "metadata": {},
     "output_type": "execute_result"
    }
   ],
   "source": [
    "df_full = df_full[df_full['Name'].isin(name_by_popularity.index)]\n",
    "assert(len(df_full['Name'].unique()) == num_names)\n",
    "df_full.head()"
   ]
  },
  {
   "cell_type": "markdown",
   "metadata": {},
   "source": [
    "## 5. Generate reference pivot tables\n",
    "\n",
    "I want one pivot table for males and one for females that contain the total number of each gender for a given year/state pair. Later, I'll generate similar pivot tables for each name, and these will be used as denominators to get the percent of females or males in any given state and in any given year who had any given name."
   ]
  },
  {
   "cell_type": "code",
   "execution_count": 8,
   "metadata": {
    "collapsed": false
   },
   "outputs": [],
   "source": [
    "def pivot(df):\n",
    "    \"\"\"Given a dataframe with columns named Count, State, and Year, returns a\n",
    "    pivot table data frame where rows are indexed by state, columns represent\n",
    "    each year found in the Year data series, and numbers are combined using\n",
    "    the numpy.sum function\n",
    "    \n",
    "    Parameters\n",
    "    ----------\n",
    "    df : pandas dataframe\n",
    "    \"\"\"\n",
    "    return df.pivot_table(values='Count', index='State', columns='Year', aggfunc=np.sum, fill_value=0)"
   ]
  },
  {
   "cell_type": "code",
   "execution_count": 9,
   "metadata": {
    "collapsed": false
   },
   "outputs": [
    {
     "data": {
      "text/html": [
       "<div>\n",
       "<table border=\"1\" class=\"dataframe\">\n",
       "  <thead>\n",
       "    <tr style=\"text-align: right;\">\n",
       "      <th></th>\n",
       "      <th>Id</th>\n",
       "      <th>Name</th>\n",
       "      <th>Year</th>\n",
       "      <th>Gender</th>\n",
       "      <th>State</th>\n",
       "      <th>Count</th>\n",
       "    </tr>\n",
       "  </thead>\n",
       "  <tbody>\n",
       "    <tr>\n",
       "      <th>13753</th>\n",
       "      <td>13754</td>\n",
       "      <td>John</td>\n",
       "      <td>1910</td>\n",
       "      <td>-1</td>\n",
       "      <td>2</td>\n",
       "      <td>8</td>\n",
       "    </tr>\n",
       "    <tr>\n",
       "      <th>13754</th>\n",
       "      <td>13755</td>\n",
       "      <td>James</td>\n",
       "      <td>1910</td>\n",
       "      <td>-1</td>\n",
       "      <td>2</td>\n",
       "      <td>7</td>\n",
       "    </tr>\n",
       "    <tr>\n",
       "      <th>13755</th>\n",
       "      <td>13756</td>\n",
       "      <td>Paul</td>\n",
       "      <td>1910</td>\n",
       "      <td>-1</td>\n",
       "      <td>2</td>\n",
       "      <td>6</td>\n",
       "    </tr>\n",
       "    <tr>\n",
       "      <th>13756</th>\n",
       "      <td>13757</td>\n",
       "      <td>Robert</td>\n",
       "      <td>1910</td>\n",
       "      <td>-1</td>\n",
       "      <td>2</td>\n",
       "      <td>6</td>\n",
       "    </tr>\n",
       "    <tr>\n",
       "      <th>13757</th>\n",
       "      <td>13758</td>\n",
       "      <td>Carl</td>\n",
       "      <td>1910</td>\n",
       "      <td>-1</td>\n",
       "      <td>2</td>\n",
       "      <td>5</td>\n",
       "    </tr>\n",
       "  </tbody>\n",
       "</table>\n",
       "</div>"
      ],
      "text/plain": [
       "          Id    Name  Year  Gender State  Count\n",
       "13753  13754    John  1910      -1     2      8\n",
       "13754  13755   James  1910      -1     2      7\n",
       "13755  13756    Paul  1910      -1     2      6\n",
       "13756  13757  Robert  1910      -1     2      6\n",
       "13757  13758    Carl  1910      -1     2      5"
      ]
     },
     "execution_count": 9,
     "metadata": {},
     "output_type": "execute_result"
    }
   ],
   "source": [
    "df_full_male   = df_full[df_full['Gender'] == gender_map['M']]\n",
    "df_full_female = df_full[df_full['Gender'] == gender_map['F']]\n",
    "df_full_male.head()"
   ]
  },
  {
   "cell_type": "code",
   "execution_count": 10,
   "metadata": {
    "collapsed": false
   },
   "outputs": [
    {
     "data": {
      "text/html": [
       "<div>\n",
       "<table border=\"1\" class=\"dataframe\">\n",
       "  <thead>\n",
       "    <tr style=\"text-align: right;\">\n",
       "      <th>Year</th>\n",
       "      <th>1910</th>\n",
       "      <th>1911</th>\n",
       "      <th>1912</th>\n",
       "      <th>1913</th>\n",
       "      <th>1914</th>\n",
       "      <th>1915</th>\n",
       "      <th>1916</th>\n",
       "      <th>1917</th>\n",
       "      <th>1918</th>\n",
       "      <th>1919</th>\n",
       "      <th>...</th>\n",
       "      <th>2005</th>\n",
       "      <th>2006</th>\n",
       "      <th>2007</th>\n",
       "      <th>2008</th>\n",
       "      <th>2009</th>\n",
       "      <th>2010</th>\n",
       "      <th>2011</th>\n",
       "      <th>2012</th>\n",
       "      <th>2013</th>\n",
       "      <th>2014</th>\n",
       "    </tr>\n",
       "    <tr>\n",
       "      <th>State</th>\n",
       "      <th></th>\n",
       "      <th></th>\n",
       "      <th></th>\n",
       "      <th></th>\n",
       "      <th></th>\n",
       "      <th></th>\n",
       "      <th></th>\n",
       "      <th></th>\n",
       "      <th></th>\n",
       "      <th></th>\n",
       "      <th></th>\n",
       "      <th></th>\n",
       "      <th></th>\n",
       "      <th></th>\n",
       "      <th></th>\n",
       "      <th></th>\n",
       "      <th></th>\n",
       "      <th></th>\n",
       "      <th></th>\n",
       "      <th></th>\n",
       "      <th></th>\n",
       "    </tr>\n",
       "  </thead>\n",
       "  <tbody>\n",
       "    <tr>\n",
       "      <th>1</th>\n",
       "      <td>10554</td>\n",
       "      <td>9779</td>\n",
       "      <td>12740</td>\n",
       "      <td>13527</td>\n",
       "      <td>16212</td>\n",
       "      <td>18659</td>\n",
       "      <td>20556</td>\n",
       "      <td>20161</td>\n",
       "      <td>21716</td>\n",
       "      <td>24727</td>\n",
       "      <td>...</td>\n",
       "      <td>14173</td>\n",
       "      <td>14343</td>\n",
       "      <td>14651</td>\n",
       "      <td>14027</td>\n",
       "      <td>13069</td>\n",
       "      <td>11951</td>\n",
       "      <td>11562</td>\n",
       "      <td>10999</td>\n",
       "      <td>11057</td>\n",
       "      <td>11067</td>\n",
       "    </tr>\n",
       "    <tr>\n",
       "      <th>10</th>\n",
       "      <td>489</td>\n",
       "      <td>526</td>\n",
       "      <td>764</td>\n",
       "      <td>807</td>\n",
       "      <td>1168</td>\n",
       "      <td>1582</td>\n",
       "      <td>1601</td>\n",
       "      <td>1773</td>\n",
       "      <td>2073</td>\n",
       "      <td>2055</td>\n",
       "      <td>...</td>\n",
       "      <td>2769</td>\n",
       "      <td>2783</td>\n",
       "      <td>2622</td>\n",
       "      <td>2526</td>\n",
       "      <td>2357</td>\n",
       "      <td>2233</td>\n",
       "      <td>2261</td>\n",
       "      <td>2091</td>\n",
       "      <td>1948</td>\n",
       "      <td>2070</td>\n",
       "    </tr>\n",
       "    <tr>\n",
       "      <th>12</th>\n",
       "      <td>3516</td>\n",
       "      <td>3298</td>\n",
       "      <td>4702</td>\n",
       "      <td>4874</td>\n",
       "      <td>6348</td>\n",
       "      <td>7297</td>\n",
       "      <td>7547</td>\n",
       "      <td>7727</td>\n",
       "      <td>8477</td>\n",
       "      <td>8706</td>\n",
       "      <td>...</td>\n",
       "      <td>57109</td>\n",
       "      <td>57737</td>\n",
       "      <td>56681</td>\n",
       "      <td>53385</td>\n",
       "      <td>49718</td>\n",
       "      <td>47301</td>\n",
       "      <td>46382</td>\n",
       "      <td>45570</td>\n",
       "      <td>45827</td>\n",
       "      <td>46090</td>\n",
       "    </tr>\n",
       "    <tr>\n",
       "      <th>13</th>\n",
       "      <td>12656</td>\n",
       "      <td>12313</td>\n",
       "      <td>16241</td>\n",
       "      <td>16810</td>\n",
       "      <td>20316</td>\n",
       "      <td>23388</td>\n",
       "      <td>25524</td>\n",
       "      <td>25487</td>\n",
       "      <td>27985</td>\n",
       "      <td>30354</td>\n",
       "      <td>...</td>\n",
       "      <td>33757</td>\n",
       "      <td>34629</td>\n",
       "      <td>34212</td>\n",
       "      <td>32431</td>\n",
       "      <td>30369</td>\n",
       "      <td>28271</td>\n",
       "      <td>27559</td>\n",
       "      <td>26966</td>\n",
       "      <td>26330</td>\n",
       "      <td>26595</td>\n",
       "    </tr>\n",
       "    <tr>\n",
       "      <th>15</th>\n",
       "      <td>341</td>\n",
       "      <td>423</td>\n",
       "      <td>631</td>\n",
       "      <td>742</td>\n",
       "      <td>964</td>\n",
       "      <td>1445</td>\n",
       "      <td>1720</td>\n",
       "      <td>1885</td>\n",
       "      <td>1904</td>\n",
       "      <td>1924</td>\n",
       "      <td>...</td>\n",
       "      <td>2383</td>\n",
       "      <td>2506</td>\n",
       "      <td>2344</td>\n",
       "      <td>2403</td>\n",
       "      <td>2253</td>\n",
       "      <td>2190</td>\n",
       "      <td>2120</td>\n",
       "      <td>2207</td>\n",
       "      <td>2124</td>\n",
       "      <td>2128</td>\n",
       "    </tr>\n",
       "  </tbody>\n",
       "</table>\n",
       "<p>5 rows × 105 columns</p>\n",
       "</div>"
      ],
      "text/plain": [
       "Year    1910   1911   1912   1913   1914   1915   1916   1917   1918   1919  \\\n",
       "State                                                                         \n",
       "1      10554   9779  12740  13527  16212  18659  20556  20161  21716  24727   \n",
       "10       489    526    764    807   1168   1582   1601   1773   2073   2055   \n",
       "12      3516   3298   4702   4874   6348   7297   7547   7727   8477   8706   \n",
       "13     12656  12313  16241  16810  20316  23388  25524  25487  27985  30354   \n",
       "15       341    423    631    742    964   1445   1720   1885   1904   1924   \n",
       "\n",
       "Year   ...     2005   2006   2007   2008   2009   2010   2011   2012   2013  \\\n",
       "State  ...                                                                    \n",
       "1      ...    14173  14343  14651  14027  13069  11951  11562  10999  11057   \n",
       "10     ...     2769   2783   2622   2526   2357   2233   2261   2091   1948   \n",
       "12     ...    57109  57737  56681  53385  49718  47301  46382  45570  45827   \n",
       "13     ...    33757  34629  34212  32431  30369  28271  27559  26966  26330   \n",
       "15     ...     2383   2506   2344   2403   2253   2190   2120   2207   2124   \n",
       "\n",
       "Year    2014  \n",
       "State         \n",
       "1      11067  \n",
       "10      2070  \n",
       "12     46090  \n",
       "13     26595  \n",
       "15      2128  \n",
       "\n",
       "[5 rows x 105 columns]"
      ]
     },
     "execution_count": 10,
     "metadata": {},
     "output_type": "execute_result"
    }
   ],
   "source": [
    "pt_full_male = pivot(df_full_male)\n",
    "pt_full_female = pivot(df_full_female)\n",
    "pt_full_female.head()"
   ]
  },
  {
   "cell_type": "markdown",
   "metadata": {},
   "source": [
    "## 6. Generate a CSV file for each name\n",
    "\n",
    "For each year/state/name combo, I want to know whether the name was \"more\" female or male, meaning a higher percentage of females vs males polled from that state that year had that name. This determines if it's on the pink or blue scale. If it's on the pink scale, the color will be determined by the percentage of females with that name that year, scaled by the greatest percentage of females from any state in any year (or the 95th percentile of all of those values). If it's on the blue scale, replace male with female in that last sentence."
   ]
  },
  {
   "cell_type": "code",
   "execution_count": 11,
   "metadata": {
    "collapsed": false
   },
   "outputs": [],
   "source": [
    "grouped = df_full.groupby(['Name'])"
   ]
  },
  {
   "cell_type": "code",
   "execution_count": 12,
   "metadata": {
    "collapsed": false
   },
   "outputs": [
    {
     "name": "stdout",
     "output_type": "stream",
     "text": [
      "finished name 100\n",
      "finished name 200\n",
      "finished name 300\n",
      "finished name 400\n",
      "finished name 500\n",
      "finished name 600\n",
      "finished name 700\n",
      "finished name 800\n",
      "finished name 900\n",
      "finished name 1000\n"
     ]
    }
   ],
   "source": [
    "name_list = []\n",
    "percent_list = []\n",
    "for i, (name, df_name) in enumerate(grouped):\n",
    "    df_name_male   = df_name[df_name['Gender'] == gender_map['M']]\n",
    "    df_name_female = df_name[df_name['Gender'] == gender_map['F']]\n",
    "    pt_name_male   = pivot(df_name_male).divide(pt_full_male, fill_value=0)\n",
    "    pt_name_female = pivot(df_name_female).divide(pt_full_female, fill_value=0)\n",
    "    pt_combine = pt_name_female.where(pt_name_female>pt_name_male, pt_name_male * -1)\n",
    "    scale = np.percentile(np.abs(pt_combine.values), 95)\n",
    "    name_list.append(name)\n",
    "    percent_list.append(scale * 100)\n",
    "    pt_combine = np.round(pt_combine / scale * 9)\n",
    "    pt_combine = pt_combine.where(pt_combine < 9, 9)\n",
    "    pt_combine = pt_combine.where(pt_combine > -9, -9)\n",
    "    pt_combine = pt_combine.astype(int)\n",
    "    pt_combine.to_csv('data/' + name + '.csv')\n",
    "    if (i+1) % 100 == 0:\n",
    "        print \"finished name\", i+1"
   ]
  },
  {
   "cell_type": "markdown",
   "metadata": {},
   "source": [
    "## 7. Write the name list to a CSV file as well\n",
    "\n",
    "This file will be used by the Javascript code to pull in the list of possible names to choose from."
   ]
  },
  {
   "cell_type": "code",
   "execution_count": 13,
   "metadata": {
    "collapsed": false
   },
   "outputs": [
    {
     "data": {
      "text/html": [
       "<div>\n",
       "<table border=\"1\" class=\"dataframe\">\n",
       "  <thead>\n",
       "    <tr style=\"text-align: right;\">\n",
       "      <th></th>\n",
       "      <th>Percent</th>\n",
       "    </tr>\n",
       "    <tr>\n",
       "      <th>Name</th>\n",
       "      <th></th>\n",
       "    </tr>\n",
       "  </thead>\n",
       "  <tbody>\n",
       "    <tr>\n",
       "      <th>Aaliyah</th>\n",
       "      <td>0.481753</td>\n",
       "    </tr>\n",
       "    <tr>\n",
       "      <th>Aaron</th>\n",
       "      <td>1.212888</td>\n",
       "    </tr>\n",
       "    <tr>\n",
       "      <th>Abby</th>\n",
       "      <td>0.274597</td>\n",
       "    </tr>\n",
       "    <tr>\n",
       "      <th>Abigail</th>\n",
       "      <td>1.701651</td>\n",
       "    </tr>\n",
       "    <tr>\n",
       "      <th>Abraham</th>\n",
       "      <td>0.161492</td>\n",
       "    </tr>\n",
       "  </tbody>\n",
       "</table>\n",
       "</div>"
      ],
      "text/plain": [
       "          Percent\n",
       "Name             \n",
       "Aaliyah  0.481753\n",
       "Aaron    1.212888\n",
       "Abby     0.274597\n",
       "Abigail  1.701651\n",
       "Abraham  0.161492"
      ]
     },
     "execution_count": 13,
     "metadata": {},
     "output_type": "execute_result"
    }
   ],
   "source": [
    "name_by_percent = pd.DataFrame(data={'Name': name_list, 'Percent': percent_list}).set_index('Name')\n",
    "name_by_percent = name_by_percent.sort()\n",
    "name_by_percent.head()"
   ]
  },
  {
   "cell_type": "code",
   "execution_count": 14,
   "metadata": {
    "collapsed": false
   },
   "outputs": [],
   "source": [
    "name_by_percent.to_csv('namelist.csv')"
   ]
  }
 ],
 "metadata": {
  "kernelspec": {
   "display_name": "Python 2",
   "language": "python",
   "name": "python2"
  },
  "language_info": {
   "codemirror_mode": {
    "name": "ipython",
    "version": 2
   },
   "file_extension": ".py",
   "mimetype": "text/x-python",
   "name": "python",
   "nbconvert_exporter": "python",
   "pygments_lexer": "ipython2",
   "version": "2.7.11"
  }
 },
 "nbformat": 4,
 "nbformat_minor": 0
}
